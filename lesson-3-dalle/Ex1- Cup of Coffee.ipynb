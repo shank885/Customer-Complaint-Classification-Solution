{
 "cells": [
  {
   "cell_type": "code",
   "execution_count": null,
   "metadata": {},
   "outputs": [],
   "source": [
    "# Important: Don't forget to update this\n",
    "\n",
    "AZURE_OPENAI_API_KEY = \"\"\n",
    "AZURE_OPENAI_ENDPOINT = \"\"\n",
    "\n",
    "GPT_DEPLOYMENT = \"\"\n",
    "GPT_VERSION = \"\"\n",
    "DALLE_DEPLOYMENT = \"\"\n",
    "DALLE_VERSION = \"\""
   ]
  },
  {
   "cell_type": "code",
   "execution_count": null,
   "metadata": {},
   "outputs": [],
   "source": [
    "import requests\n",
    "from PIL import Image\n",
    "from IPython.display import display\n",
    "\n",
    "from utils import create_openai_client, generate_image"
   ]
  },
  {
   "cell_type": "code",
   "execution_count": null,
   "metadata": {},
   "outputs": [],
   "source": [
    "dalle = create_openai_client(DALLE_VERSION, AZURE_OPENAI_API_KEY, AZURE_OPENAI_ENDPOINT)"
   ]
  },
  {
   "cell_type": "code",
   "execution_count": null,
   "metadata": {},
   "outputs": [],
   "source": [
    "prompt = \"\""
   ]
  },
  {
   "cell_type": "code",
   "execution_count": null,
   "metadata": {},
   "outputs": [],
   "source": [
    "image_url = generate_image(dalle, prompt, DALLE_DEPLOYMENT, '1024x1024', 'hd', 'vivid')\n",
    "image_url"
   ]
  },
  {
   "cell_type": "code",
   "execution_count": null,
   "metadata": {},
   "outputs": [],
   "source": [
    "Image.open(requests.get(image_url, stream=True).raw)"
   ]
  }
 ],
 "metadata": {
  "kernelspec": {
   "display_name": "udacity-azureai",
   "language": "python",
   "name": "python3"
  },
  "language_info": {
   "codemirror_mode": {
    "name": "ipython",
    "version": 3
   },
   "file_extension": ".py",
   "mimetype": "text/x-python",
   "name": "python",
   "nbconvert_exporter": "python",
   "pygments_lexer": "ipython3",
   "version": "3.12.4"
  }
 },
 "nbformat": 4,
 "nbformat_minor": 2
}
